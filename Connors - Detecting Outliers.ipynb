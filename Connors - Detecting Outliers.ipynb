{
 "cells": [
  {
   "cell_type": "markdown",
   "metadata": {},
   "source": [
    "Brandon Connors  \n",
    "10/29/23  \n",
    "Detecting Outliers"
   ]
  },
  {
   "cell_type": "code",
   "execution_count": 1,
   "metadata": {},
   "outputs": [
    {
     "name": "stdout",
     "output_type": "stream",
     "text": [
      "Defaulting to user installation because normal site-packages is not writeable\n",
      "Requirement already satisfied: pymongo in c:\\users\\simki\\appdata\\roaming\\python\\python311\\site-packages (4.5.0)\n",
      "Requirement already satisfied: dnspython<3.0.0,>=1.16.0 in c:\\users\\simki\\appdata\\roaming\\python\\python311\\site-packages (from pymongo) (2.4.2)\n",
      "Note: you may need to restart the kernel to use updated packages.\n"
     ]
    },
    {
     "name": "stderr",
     "output_type": "stream",
     "text": [
      "\n",
      "[notice] A new release of pip is available: 23.2.1 -> 23.3.1\n",
      "[notice] To update, run: python.exe -m pip install --upgrade pip\n"
     ]
    }
   ],
   "source": [
    "pip install pymongo"
   ]
  },
  {
   "cell_type": "code",
   "execution_count": 1,
   "metadata": {},
   "outputs": [
    {
     "name": "stdout",
     "output_type": "stream",
     "text": [
      "My connection string is 73 characters in length.\n"
     ]
    }
   ],
   "source": [
    "\n",
    "import json\n",
    "\n",
    "# Loading the json file that contains the connection string\n",
    "with open('D:\\\\School\\\\Fall 2023\\\\secrets.json') as d:\n",
    "    data = json.load(d)\n",
    "\n",
    "    # Extracting the connection string from the file\n",
    "    connectionString = data['mongodbRead']\n",
    "\n",
    "# Sanity check to make sure that I've pulled the right data\n",
    "print(f\"My connection string is {len(connectionString)} characters in length.\")\n",
    "\n"
   ]
  },
  {
   "cell_type": "code",
   "execution_count": 2,
   "metadata": {},
   "outputs": [
    {
     "name": "stdout",
     "output_type": "stream",
     "text": [
      "Using MongoDB version 6.0.11.\n",
      "This database has the collections ['MetacriticMovies', 'IMDB_Superhero_2']\n"
     ]
    }
   ],
   "source": [
    "import pymongo\n",
    "import certifi\n",
    "\n",
    "# Connect to the database using known good certificates\n",
    "client = pymongo.MongoClient(connectionString, tlsCAFile=certifi.where())\n",
    "\n",
    "# Fetch the database named \"DA320\"\n",
    "da320_database = client['DA320']\n",
    "\n",
    "# Within the database we have \"collections\". Think of them as tables in SQL.\n",
    "allCollections = da320_database.list_collection_names()\n",
    "\n",
    "# Here is the list of collections within my database\n",
    "print(f\"Using MongoDB version {client.server_info()['version']}.\")\n",
    "print(f\"This database has the collections {allCollections}\")"
   ]
  },
  {
   "cell_type": "code",
   "execution_count": null,
   "metadata": {},
   "outputs": [],
   "source": []
  }
 ],
 "metadata": {
  "kernelspec": {
   "display_name": "Python 3",
   "language": "python",
   "name": "python3"
  },
  "language_info": {
   "codemirror_mode": {
    "name": "ipython",
    "version": 3
   },
   "file_extension": ".py",
   "mimetype": "text/x-python",
   "name": "python",
   "nbconvert_exporter": "python",
   "pygments_lexer": "ipython3",
   "version": "3.11.5"
  }
 },
 "nbformat": 4,
 "nbformat_minor": 2
}
